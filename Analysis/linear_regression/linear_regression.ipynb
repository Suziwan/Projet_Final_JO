{
 "cells": [
  {
   "attachments": {},
   "cell_type": "markdown",
   "metadata": {},
   "source": [
    "# Analyse prédictive par régression linéaire \n",
    "---\n",
    "Il s'agira ici d'opérer une régression linéaire entre le PIB et le nombre de médailles obtenues aux JO afin d'établir un modèle prédictif."
   ]
  },
  {
   "cell_type": "code",
   "execution_count": 46,
   "metadata": {},
   "outputs": [],
   "source": [
    "# charger données et packages \n",
    "import pandas as pd \n",
    "import numpy as np \n",
    "import matplotlib.pyplot as plt\n",
    "import seaborn as sb \n",
    "from sklearn.linear_model import LinearRegression\n",
    "from sklearn.metrics import mean_squared_error, r2_score\n",
    "df_reg = pd.read_csv(\"../../dataprep/David/datasets_clean/linear_reg/linear_reg.csv\")\n",
    "df_reg = df_reg.drop(columns = [\"Unnamed: 0\"])\n"
   ]
  },
  {
   "cell_type": "code",
   "execution_count": 56,
   "metadata": {},
   "outputs": [
    {
     "name": "stdout",
     "output_type": "stream",
     "text": [
      "La performance du Modèle pour le set de Training\n",
      "------------------------------------------------\n",
      "l'erreur RMSE est 13.141523749562031\n",
      "le score R2 est 0.6612131401822116\n",
      "\n",
      "\n",
      "La performance du Modèle pour le set de Test\n",
      "--------------------------------------------\n",
      "l'erreur RMSE est 11.896583747350082\n",
      "le score R2 est 0.42773885066704853\n"
     ]
    }
   ],
   "source": [
    "# importer les bibliothèques \n",
    "import numpy as np \n",
    "import matplotlib.pyplot as plt\n",
    "import seaborn as sb \n",
    "from sklearn.linear_model import LinearRegression\n",
    "from sklearn.metrics import mean_squared_error, r2_score\n",
    "from sklearn.model_selection import train_test_split\n",
    "# définir les variables \n",
    "x = pd.DataFrame(np.c_[df_reg['GDP'], df_reg['population (millions)'], \n",
    "                       df_reg['GDP/capita']], \n",
    "                       columns = [\"GDP\", \"population (millions)\", \"GDP/capita\"])\n",
    "y1 = df_reg[\"Total\"]\n",
    "# distinguer valeurs de test et d'entrainement \n",
    "x_train, x_test, y1_train, y1_test = train_test_split(x, y1, test_size = 0.3, random_state = 55)\n",
    "# mettre à l'échelle les données \n",
    "from sklearn.preprocessing import StandardScaler\n",
    "scaler = StandardScaler()\n",
    "scaler.fit(x_train)\n",
    "x_train = scaler.transform(x_train)\n",
    "x_test = scaler.transform(x_test)\n",
    "# créer le modèle \n",
    "linear_model = LinearRegression() \n",
    "# entraîner le modèle aux données \n",
    "linear_model.fit(x_train, y1_train)\n",
    "# évaluer la qualité du modèle sur le subset d'entrainement \n",
    "y1_train_predict = linear_model.predict(x_train)\n",
    "# racine carrée de l'erreur quadratique moyenne du modèle\n",
    "rmse = (np.sqrt(mean_squared_error(y1_train, y1_train_predict)))\n",
    "r2 = r2_score(y1_train, y1_train_predict)\n",
    "\n",
    "# on imprime les résultats de cette évaluation \n",
    "print(\"La performance du Modèle pour le set de Training\")\n",
    "print(\"------------------------------------------------\")\n",
    "print(\"l'erreur RMSE est {}\".format(rmse))\n",
    "print('le score R2 est {}'.format(r2))\n",
    "print(\"\\n\")\n",
    "# évaluation du modèle pour le set de test \n",
    "y1_test_predict = linear_model.predict(x_test)\n",
    "# racine carrée de l'erreur quadratique moyenne du modèle\n",
    "rmse_test = (np.sqrt(mean_squared_error(y1_test, y1_test_predict)))\n",
    "# score R carré du modèle\n",
    "r2_test = r2_score(y1_test, y1_test_predict)\n",
    "print(\"La performance du Modèle pour le set de Test\")\n",
    "print(\"--------------------------------------------\")\n",
    "print(\"l'erreur RMSE est {}\".format(rmse_test))\n",
    "print('le score R2 est {}'.format(r2_test))\n",
    "# variable prédite \n",
    "# y1_predicted = reg_model.predict(x)\n",
    "\n"
   ]
  },
  {
   "cell_type": "code",
   "execution_count": null,
   "metadata": {},
   "outputs": [],
   "source": []
  }
 ],
 "metadata": {
  "kernelspec": {
   "display_name": "Python 3",
   "language": "python",
   "name": "python3"
  },
  "language_info": {
   "codemirror_mode": {
    "name": "ipython",
    "version": 3
   },
   "file_extension": ".py",
   "mimetype": "text/x-python",
   "name": "python",
   "nbconvert_exporter": "python",
   "pygments_lexer": "ipython3",
   "version": "3.10.9"
  },
  "orig_nbformat": 4
 },
 "nbformat": 4,
 "nbformat_minor": 2
}
